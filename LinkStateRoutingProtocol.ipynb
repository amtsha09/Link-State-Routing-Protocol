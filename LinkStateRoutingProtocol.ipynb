{
 "cells": [
  {
   "cell_type": "code",
   "execution_count": 1,
   "metadata": {
    "collapsed": true
   },
   "outputs": [],
   "source": [
    "import numpy as np\n",
    "import pandas as pd\n",
    "import sys\n",
    "l = []\n",
    "l_str = []\n",
    "sum_path = 0\n"
   ]
  },
  {
   "cell_type": "code",
   "execution_count": 2,
   "metadata": {
    "collapsed": true
   },
   "outputs": [],
   "source": [
    "def make_file():\n",
    "    global l\n",
    "    global l_str\n",
    "    f_name = input(\"Input original network topology matrix data file:\")\n",
    "    f = open ( f_name , 'r')\n",
    "    l_str = [ line.strip().split(' ') for line in f ]\n",
    "    f.close()\n"
   ]
  },
  {
   "cell_type": "code",
   "execution_count": 3,
   "metadata": {
    "collapsed": true
   },
   "outputs": [],
   "source": [
    "def create_network_topology():\n",
    "    global l\n",
    "    global l_str\n",
    "    \n",
    "    print(\"\\nReview original topology matrix:\\n\")\n",
    "    \n",
    "    for i in l_str:\n",
    "        print(' '.join(i))\n",
    "    print(\"\\n\\n\")\n",
    "    \n",
    "    l = [[int(i) for i in j] for j in l_str]\n"
   ]
  },
  {
   "cell_type": "code",
   "execution_count": 5,
   "metadata": {
    "collapsed": true
   },
   "outputs": [],
   "source": [
    "def dijkstra(source):\n",
    "\n",
    "    for idx_i, i in enumerate(l):\n",
    "        for idx_j, j in enumerate(i):\n",
    "            if j == -1:\n",
    "                l[idx_i].pop(idx_j)\n",
    "                l[idx_i].insert(idx_j, sys.maxsize)\n",
    "\n",
    "\n",
    "    source = source\n",
    "    current = source\n",
    "\n",
    "    map_heap = {}\n",
    "    v_dist = {}\n",
    "    v_parent = {}\n",
    "\n",
    "    for i in range(len(l)):\n",
    "        map_heap[i+1] = sys.maxsize\n",
    "\n",
    "    map_heap[current] = 0\n",
    "    sorted_map_heap = sorted(map_heap.items(), key=lambda x: x[1])\n",
    "    v_parent[source] = 0\n",
    "    \n",
    "    v_dist[sorted_map_heap[0][0]] = sorted_map_heap[0][1]\n",
    "    row = l[sorted_map_heap[0][0]-1]\n",
    "    del map_heap[sorted_map_heap[0][0]]\n",
    "\n",
    "\n",
    "\n",
    "    while (len(map_heap) != 0):\n",
    "\n",
    "        for i,j in enumerate(row):\n",
    "            if i+1 in map_heap and (j + v_dist[current]) < map_heap[i+1]:\n",
    "                map_heap[i+1] = j + v_dist[current]\n",
    "                v_parent[i+1] = current\n",
    "\n",
    "\n",
    "        sorted_map_heap = sorted(map_heap.items(), key=lambda x: x[1])\n",
    "        v_dist[sorted_map_heap[0][0]] = sorted_map_heap[0][1]\n",
    "\n",
    "        current = sorted_map_heap[0][0]\n",
    "        row = l[sorted_map_heap[0][0]-1]\n",
    "        del map_heap[sorted_map_heap[0][0]]\n",
    "\n",
    "    return (v_dist,v_parent)\n"
   ]
  },
  {
   "cell_type": "code",
   "execution_count": 10,
   "metadata": {
    "collapsed": true
   },
   "outputs": [],
   "source": [
    "def connection_table(source,vd):\n",
    "    global sum_path\n",
    "    sum_path = 0\n",
    "\n",
    "    print(\"\\n\\n Router %d Connection Table\" %source)\n",
    "    print(\"Destination \\t\",\"Interface\")\n",
    "    print(\"==========================\\n\")\n",
    "    for i,j in vd.items():\n",
    "        print(\"   \",i,\"\\t\\t   \",j)\n",
    "        sum_path += j\n",
    "    "
   ]
  },
  {
   "cell_type": "code",
   "execution_count": 11,
   "metadata": {
    "collapsed": true
   },
   "outputs": [],
   "source": [
    "def path(source,destination,vp,vd):\n",
    "\n",
    "    list_child = []\n",
    "    list_parent = []\n",
    "    for i,j in vp.items():\n",
    "        list_child.append(i)\n",
    "        list_parent.append(j)\n",
    "\n",
    "    link = []\n",
    "    link.append(destination)\n",
    "    a = destination\n",
    "    while link.count(source) != 1:\n",
    "        b = list_child.index(a)\n",
    "        a = list_parent[b]\n",
    "        link.append(a)\n",
    "    print(vd)\n",
    "    print(\"The shortest path from router %d to router %d is: \"%(source,destination), \"-\".join([str(i) for i in link[::-1]]),\n",
    "          \" the total cost is: \",vd[destination])\n"
   ]
  },
  {
   "cell_type": "code",
   "execution_count": 12,
   "metadata": {
    "collapsed": true
   },
   "outputs": [],
   "source": [
    "def router_remove(rem,source):\n",
    "    global l_str\n",
    "    del l_str[rem-1]\n",
    "    for i in l_str:\n",
    "        del i[rem-1]\n",
    "    create_network_topology()\n",
    "    vd,vp = dijkstra(source)\n",
    "    connection_table(source,vd)\n"
   ]
  },
  {
   "cell_type": "code",
   "execution_count": 13,
   "metadata": {
    "collapsed": true
   },
   "outputs": [],
   "source": [
    "def best_router():\n",
    "    global l\n",
    "    source = [i for i in range(1,len(l)+1)]\n",
    "    for j in source:\n",
    "        vd,vp = dijkstra(j)\n",
    "        connection_table(j,vd)\n",
    "        "
   ]
  },
  {
   "cell_type": "code",
   "execution_count": 14,
   "metadata": {
    "collapsed": true
   },
   "outputs": [],
   "source": [
    "def main():\n",
    "    source = 0\n",
    "    choice = 0\n",
    "    destination = 0\n",
    "    while (choice != 6):\n",
    "        print(\"\\n\\n\\n CS542 Link State Routing Simulator \\n\\n\")\n",
    "        print(\"(1) Create a Network Topology\")\n",
    "        print(\"(2) Build a Connection Table\")\n",
    "        print(\"(3) Shortest Path to Destination Router\")\n",
    "        print(\"(4) Modify a Topology\")\n",
    "        print(\"(5) Best Router for Broadcast\")\n",
    "        print(\"(6) Exit\\n\")\n",
    "        choice = int(input(\"Command: \"))\n",
    "        \n",
    "        if choice == 1:\n",
    "            make_file()\n",
    "            create_network_topology()\n",
    "        elif choice == 2:\n",
    "            source = int(input(\"Select a source router: \"))\n",
    "            vd,vp = dijkstra(source)\n",
    "            connection_table(source,vd)\n",
    "        elif choice == 3:\n",
    "            if source == 0:\n",
    "                print(\"please enter the source\")\n",
    "            else:\n",
    "                destination = int(input(\"Select the destination router: \"))\n",
    "                path(source,destination,vp,vd)\n",
    "        elif choice ==4:\n",
    "            rem = int(input(\"Select a router to be removed: \"))\n",
    "            if source != 0 and destination != 0 and source != rem and destination != rem :\n",
    "                router_remove(rem,source)\n",
    "                path(source,destination,vp,vd)\n",
    "            else:\n",
    "                router_remove(rem,source)\n",
    "        elif choice == 5:\n",
    "            best_router()\n"
   ]
  },
  {
   "cell_type": "code",
   "execution_count": 16,
   "metadata": {},
   "outputs": [
    {
     "name": "stdout",
     "output_type": "stream",
     "text": [
      "\n",
      "\n",
      "\n",
      " CS542 Link State Routing Simulator \n",
      "\n",
      "\n",
      "(1) Create a Network Topology\n",
      "(2) Build a Connection Table\n",
      "(3) Shortest Path to Destination Router\n",
      "(4) Modify a Topology\n",
      "(5) Best Router for Broadcast\n",
      "(6) Exit\n",
      "\n",
      "Command: 1\n",
      "Input original network topology matrix data file:input.txt\n",
      "\n",
      "Review original topology matrix:\n",
      "\n",
      "0 4 -1 2 -1\n",
      "4 0 8 -1 5\n",
      "-1 8 0 3 -1\n",
      "2 -1 3 0 4\n",
      "-1 5 -1 4 0\n",
      "\n",
      "\n",
      "\n",
      "\n",
      "\n",
      "\n",
      " CS542 Link State Routing Simulator \n",
      "\n",
      "\n",
      "(1) Create a Network Topology\n",
      "(2) Build a Connection Table\n",
      "(3) Shortest Path to Destination Router\n",
      "(4) Modify a Topology\n",
      "(5) Best Router for Broadcast\n",
      "(6) Exit\n",
      "\n",
      "Command: 2\n",
      "Select a source router: 2\n",
      "\n",
      "\n",
      " Router 2 Connection Table\n",
      "Destination \t Interface\n",
      "==========================\n",
      "\n",
      "    2 \t\t    0\n",
      "    1 \t\t    4\n",
      "    5 \t\t    5\n",
      "    4 \t\t    6\n",
      "    3 \t\t    8\n",
      "\n",
      "\n",
      "\n",
      " CS542 Link State Routing Simulator \n",
      "\n",
      "\n",
      "(1) Create a Network Topology\n",
      "(2) Build a Connection Table\n",
      "(3) Shortest Path to Destination Router\n",
      "(4) Modify a Topology\n",
      "(5) Best Router for Broadcast\n",
      "(6) Exit\n",
      "\n",
      "Command: 3\n",
      "Select the destination router: 3\n",
      "{2: 0, 1: 4, 5: 5, 4: 6, 3: 8}\n",
      "The shortest path from router 2 to router 3 is:  2-3  the total cost is:  8\n",
      "\n",
      "\n",
      "\n",
      " CS542 Link State Routing Simulator \n",
      "\n",
      "\n",
      "(1) Create a Network Topology\n",
      "(2) Build a Connection Table\n",
      "(3) Shortest Path to Destination Router\n",
      "(4) Modify a Topology\n",
      "(5) Best Router for Broadcast\n",
      "(6) Exit\n",
      "\n",
      "Command: 6\n"
     ]
    }
   ],
   "source": [
    "if __name__ == '__main__':\n",
    "    main()"
   ]
  },
  {
   "cell_type": "code",
   "execution_count": null,
   "metadata": {
    "collapsed": true
   },
   "outputs": [],
   "source": []
  }
 ],
 "metadata": {
  "anaconda-cloud": {},
  "kernelspec": {
   "display_name": "Python 3",
   "language": "python",
   "name": "python3"
  },
  "language_info": {
   "codemirror_mode": {
    "name": "ipython",
    "version": 3
   },
   "file_extension": ".py",
   "mimetype": "text/x-python",
   "name": "python",
   "nbconvert_exporter": "python",
   "pygments_lexer": "ipython3",
   "version": "3.6.1"
  }
 },
 "nbformat": 4,
 "nbformat_minor": 1
}
